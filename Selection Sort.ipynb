{
 "cells": [
  {
   "cell_type": "code",
   "execution_count": 3,
   "id": "53c3556b-accc-42ff-9d6b-52856d99390c",
   "metadata": {},
   "outputs": [
    {
     "name": "stdout",
     "output_type": "stream",
     "text": [
      "[0, 4, 9, 2, 1, 3, 2, 3]\n",
      "[0, 1, 9, 2, 4, 3, 2, 3]\n",
      "[0, 1, 2, 9, 4, 3, 2, 3]\n",
      "[0, 1, 2, 2, 4, 3, 9, 3]\n",
      "[0, 1, 2, 2, 3, 4, 9, 3]\n",
      "[0, 1, 2, 2, 3, 3, 9, 4]\n",
      "[0, 1, 2, 2, 3, 3, 4, 9]\n",
      "[0, 1, 2, 2, 3, 3, 4, 9]\n",
      "Sorted array is: [0, 1, 2, 2, 3, 3, 4, 9]\n"
     ]
    }
   ],
   "source": [
    "def sort_shashank(nums):\n",
    "    n = len(nums)\n",
    "    for i in range(n):\n",
    "        minpos = i\n",
    "        for j in range(i + 1, n):\n",
    "            if nums[j] < nums[minpos]:\n",
    "                minpos = j\n",
    "        nums[i], nums[minpos] = nums[minpos], nums[i]\n",
    "        print(nums)\n",
    "nums = [2, 4, 9, 0, 1, 3, 2, 3]\n",
    "sort_shashank(nums)\n",
    "print(\"Sorted array is:\", nums)\n"
   ]
  },
  {
   "cell_type": "code",
   "execution_count": null,
   "id": "3026ce83-58cd-4621-9baa-3232925274cc",
   "metadata": {},
   "outputs": [],
   "source": []
  }
 ],
 "metadata": {
  "kernelspec": {
   "display_name": "Python 3 (ipykernel)",
   "language": "python",
   "name": "python3"
  },
  "language_info": {
   "codemirror_mode": {
    "name": "ipython",
    "version": 3
   },
   "file_extension": ".py",
   "mimetype": "text/x-python",
   "name": "python",
   "nbconvert_exporter": "python",
   "pygments_lexer": "ipython3",
   "version": "3.12.5"
  }
 },
 "nbformat": 4,
 "nbformat_minor": 5
}
