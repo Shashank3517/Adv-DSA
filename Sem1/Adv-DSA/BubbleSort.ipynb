{
 "cells": [
  {
   "cell_type": "code",
   "execution_count": 2,
   "id": "572bbffd-ad04-4da6-993f-b2a83f60c3b2",
   "metadata": {},
   "outputs": [
    {
     "name": "stdout",
     "output_type": "stream",
     "text": [
      "Sorted array is: [0, 1, 2, 2, 3, 3, 4, 9]\n"
     ]
    }
   ],
   "source": [
    "def Bubblesort(nums):\n",
    "    for i in range(len(nums) - 1, 0, -1):\n",
    "        for j in range(i):\n",
    "            if nums[j] > nums[j + 1]:\n",
    "                nums[j], nums[j + 1] = nums[j + 1], nums[j]\n",
    "    return nums\n",
    "\n",
    "nums = [2, 4, 9, 0, 1, 3, 2, 3]\n",
    "Bubblesort(nums)\n",
    "print(\"Sorted array is:\", nums)\n"
   ]
  },
  {
   "cell_type": "code",
   "execution_count": null,
   "id": "3512c25f-6f01-48b0-bbdd-5ec796ca404d",
   "metadata": {},
   "outputs": [],
   "source": []
  }
 ],
 "metadata": {
  "kernelspec": {
   "display_name": "Python 3 (ipykernel)",
   "language": "python",
   "name": "python3"
  },
  "language_info": {
   "codemirror_mode": {
    "name": "ipython",
    "version": 3
   },
   "file_extension": ".py",
   "mimetype": "text/x-python",
   "name": "python",
   "nbconvert_exporter": "python",
   "pygments_lexer": "ipython3",
   "version": "3.12.5"
  }
 },
 "nbformat": 4,
 "nbformat_minor": 5
}
