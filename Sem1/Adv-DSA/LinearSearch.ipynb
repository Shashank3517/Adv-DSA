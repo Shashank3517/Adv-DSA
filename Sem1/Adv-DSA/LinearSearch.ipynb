{
 "cells": [
  {
   "cell_type": "code",
   "execution_count": 4,
   "id": "18f953d0-bbd5-4afd-bf70-e6ab67705f28",
   "metadata": {},
   "outputs": [
    {
     "name": "stdout",
     "output_type": "stream",
     "text": [
      "Found at 5\n"
     ]
    }
   ],
   "source": [
    "pos = -1\n",
    "\n",
    "def linearsearch(lst, n):\n",
    "    i = 0\n",
    "    while i < len(lst):\n",
    "        if lst[i] == n:\n",
    "            globals()['pos'] = i\n",
    "            return True\n",
    "        i = i + 1\n",
    "    return False\n",
    "\n",
    "lst = [2, 4, 9, 0, 1, 3, 2, 3]\n",
    "n = 1\n",
    "\n",
    "if linearsearch(lst, n):\n",
    "    print(\"Found at\", pos + 1)\n",
    "else:\n",
    "    print(\"Not Found\")\n"
   ]
  },
  {
   "cell_type": "code",
   "execution_count": null,
   "id": "6705dbb5-400e-47e3-b032-b9b4dce69892",
   "metadata": {},
   "outputs": [],
   "source": []
  }
 ],
 "metadata": {
  "kernelspec": {
   "display_name": "Python 3 (ipykernel)",
   "language": "python",
   "name": "python3"
  },
  "language_info": {
   "codemirror_mode": {
    "name": "ipython",
    "version": 3
   },
   "file_extension": ".py",
   "mimetype": "text/x-python",
   "name": "python",
   "nbconvert_exporter": "python",
   "pygments_lexer": "ipython3",
   "version": "3.12.5"
  }
 },
 "nbformat": 4,
 "nbformat_minor": 5
}
