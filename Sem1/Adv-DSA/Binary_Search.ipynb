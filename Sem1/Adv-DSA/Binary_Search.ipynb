{
 "cells": [
  {
   "cell_type": "code",
   "execution_count": 1,
   "id": "c1d42c5f-af9b-418b-b302-e281874c6801",
   "metadata": {},
   "outputs": [
    {
     "name": "stdout",
     "output_type": "stream",
     "text": [
      "Found at  5\n"
     ]
    }
   ],
   "source": [
    "pos = -1\n",
    "\n",
    "def search(list, n):\n",
    "\n",
    "    l = 0\n",
    "    u = len(list)-1\n",
    "\n",
    "    while l <= u:\n",
    "        mid = (l+u) // 2\n",
    "\n",
    "        if list[mid] == n:\n",
    "            globals()['pos'] = mid\n",
    "            return True\n",
    "        else:\n",
    "            if list[mid] < n:\n",
    "                l = mid+1;\n",
    "            else:\n",
    "                u = mid-1;\n",
    "\n",
    "    return False\n",
    "\n",
    "\n",
    "list = [2, 4, 9, 0, 1, 3, 2, 3]\n",
    "n = 1\n",
    "\n",
    "if search(list, n):\n",
    "    print(\"Found at \",pos+1)\n",
    "else:\n",
    "    print(\"Not Found\")"
   ]
  },
  {
   "cell_type": "code",
   "execution_count": null,
   "id": "75e60061-2832-4d4c-b41f-525ce4258b68",
   "metadata": {},
   "outputs": [],
   "source": []
  }
 ],
 "metadata": {
  "kernelspec": {
   "display_name": "Python 3 (ipykernel)",
   "language": "python",
   "name": "python3"
  },
  "language_info": {
   "codemirror_mode": {
    "name": "ipython",
    "version": 3
   },
   "file_extension": ".py",
   "mimetype": "text/x-python",
   "name": "python",
   "nbconvert_exporter": "python",
   "pygments_lexer": "ipython3",
   "version": "3.12.5"
  }
 },
 "nbformat": 4,
 "nbformat_minor": 5
}
